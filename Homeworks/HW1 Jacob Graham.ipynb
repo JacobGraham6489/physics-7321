{
 "cells": [
  {
   "cell_type": "code",
   "execution_count": 1,
   "id": "8bb35369",
   "metadata": {},
   "outputs": [],
   "source": [
    "import numpy as np\n",
    "from matplotlib import pyplot as plt"
   ]
  }
 ],
 "metadata": {
  "kernelspec": {
   "display_name": "Python (sci-dev)",
   "language": "python",
   "name": "sci-dev"
  },
  "language_info": {
   "codemirror_mode": {
    "name": "ipython",
    "version": 3
   },
   "file_extension": ".py",
   "mimetype": "text/x-python",
   "name": "python",
   "nbconvert_exporter": "python",
   "pygments_lexer": "ipython3",
   "version": "3.11.13"
  }
 },
 "nbformat": 4,
 "nbformat_minor": 5
}
